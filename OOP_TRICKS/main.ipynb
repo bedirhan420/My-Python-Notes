{
 "cells": [
  {
   "cell_type": "markdown",
   "metadata": {},
   "source": [
    "# 1. Özellikler (Properties)\n",
    "### Özellikler, sınıf içindeki özel değişkenlere erişimi denetlemek için kullanılır. Python'da property dekoratörü ile oluşturulur."
   ]
  },
  {
   "cell_type": "code",
   "execution_count": 1,
   "metadata": {},
   "outputs": [
    {
     "name": "stdout",
     "output_type": "stream",
     "text": [
      "10\n",
      "20\n"
     ]
    }
   ],
   "source": [
    "class MyClass:\n",
    "    def __init__(self, value):\n",
    "        self._value = value\n",
    "\n",
    "    @property\n",
    "    def value(self):\n",
    "        return self._value\n",
    "\n",
    "    @value.setter\n",
    "    def value(self, new_value):\n",
    "        if new_value >= 0:\n",
    "            self._value = new_value\n",
    "        else:\n",
    "            raise ValueError(\"Value must be non-negative\")\n",
    "\n",
    "obj = MyClass(10)\n",
    "print(obj.value)  # 10\n",
    "obj.value = 20\n",
    "print(obj.value)  # 20\n"
   ]
  },
  {
   "cell_type": "markdown",
   "metadata": {},
   "source": [
    "# 2. İç İçe Sınıflar (Nested Classes)\n",
    "### Bir sınıfın içinde başka bir sınıf tanımlayabilirsiniz. Bu, bir sınıfın sadece kapsayan sınıfın bağlamında anlamlı olduğu durumlarda kullanışlıdır."
   ]
  },
  {
   "cell_type": "code",
   "execution_count": 2,
   "metadata": {},
   "outputs": [
    {
     "name": "stdout",
     "output_type": "stream",
     "text": [
      "5\n"
     ]
    }
   ],
   "source": [
    "class OuterClass:\n",
    "    class InnerClass:\n",
    "        def __init__(self, value):\n",
    "            self.value = value\n",
    "\n",
    "outer = OuterClass()\n",
    "inner = OuterClass.InnerClass(5)\n",
    "print(inner.value)  # 5\n"
   ]
  },
  {
   "cell_type": "markdown",
   "metadata": {},
   "source": [
    "# 3. Soyut Sınıflar (Abstract Classes) ve Soyut Metotlar\n",
    "### Soyut sınıflar, doğrudan örneklendirilemeyen ve alt sınıflar tarafından genişletilmesi gereken sınıflardır. abc modülü kullanılarak oluşturulurlar."
   ]
  },
  {
   "cell_type": "code",
   "execution_count": 3,
   "metadata": {},
   "outputs": [
    {
     "name": "stdout",
     "output_type": "stream",
     "text": [
      "This is an implementation of the abstract method\n"
     ]
    }
   ],
   "source": [
    "from abc import ABC, abstractmethod\n",
    "\n",
    "class AbstractClass(ABC):\n",
    "    @abstractmethod\n",
    "    def abstract_method(self):\n",
    "        pass\n",
    "\n",
    "class ConcreteClass(AbstractClass):\n",
    "    def abstract_method(self):\n",
    "        print(\"This is an implementation of the abstract method\")\n",
    "\n",
    "# abstract_instance = AbstractClass()  # Hata: Soyut sınıflar örneklendirilemez\n",
    "concrete_instance = ConcreteClass()\n",
    "concrete_instance.abstract_method()  # This is an implementation of the abstract method\n"
   ]
  },
  {
   "cell_type": "markdown",
   "metadata": {},
   "source": [
    "# 4. Karma Kalıtım (Multiple Inheritance)\n",
    "### Python, bir sınıfın birden fazla sınıftan miras almasına izin verir. Bu, karmaşık kalıtım hiyerarşileri oluşturabilir, ancak dikkatli kullanılmalıdır."
   ]
  },
  {
   "cell_type": "code",
   "execution_count": 4,
   "metadata": {},
   "outputs": [
    {
     "name": "stdout",
     "output_type": "stream",
     "text": [
      "Method from Base1\n",
      "Method from Base2\n"
     ]
    }
   ],
   "source": [
    "class Base1:\n",
    "    def method_base1(self):\n",
    "        print(\"Method from Base1\")\n",
    "\n",
    "class Base2:\n",
    "    def method_base2(self):\n",
    "        print(\"Method from Base2\")\n",
    "\n",
    "class Derived(Base1, Base2):\n",
    "    pass\n",
    "\n",
    "obj = Derived()\n",
    "obj.method_base1()  # Method from Base1\n",
    "obj.method_base2()  # Method from Base2\n"
   ]
  },
  {
   "cell_type": "markdown",
   "metadata": {},
   "source": [
    "# 5. Mixin'ler\n",
    "### Mixin'ler, diğer sınıflara işlevsellik eklemek için kullanılan sınıflardır. Mixin'ler, çoğunlukla bağımsız işlevler veya davranışlar sağlar ve genellikle birden çok sınıf tarafından miras alınabilir."
   ]
  },
  {
   "cell_type": "code",
   "execution_count": 5,
   "metadata": {},
   "outputs": [
    {
     "name": "stdout",
     "output_type": "stream",
     "text": [
      "Log: Processing data\n"
     ]
    }
   ],
   "source": [
    "class LogMixin:\n",
    "    def log(self, message):\n",
    "        print(f\"Log: {message}\")\n",
    "\n",
    "class MyClass(LogMixin):\n",
    "    def process(self):\n",
    "        self.log(\"Processing data\")\n",
    "\n",
    "obj = MyClass()\n",
    "obj.process()  # Log: Processing data\n"
   ]
  },
  {
   "cell_type": "markdown",
   "metadata": {},
   "source": [
    "# 6. Operator Overloading (Operatör Aşırı Yükleme)\n",
    "### Python'da operatörler sınıflar için aşırı yüklenebilir, böylece sınıflar özel davranışlar gösterebilir."
   ]
  },
  {
   "cell_type": "code",
   "execution_count": 6,
   "metadata": {},
   "outputs": [
    {
     "name": "stdout",
     "output_type": "stream",
     "text": [
      "Vector(6, 8)\n"
     ]
    }
   ],
   "source": [
    "class Vector:\n",
    "    def __init__(self, x, y):\n",
    "        self.x = x\n",
    "        self.y = y\n",
    "\n",
    "    def __add__(self, other):\n",
    "        return Vector(self.x + other.x, self.y + other.y)\n",
    "\n",
    "    def __str__(self):\n",
    "        return f\"Vector({self.x}, {self.y})\"\n",
    "\n",
    "v1 = Vector(2, 3)\n",
    "v2 = Vector(4, 5)\n",
    "print(v1 + v2)  # Vector(6, 8)\n"
   ]
  },
  {
   "cell_type": "markdown",
   "metadata": {},
   "source": [
    "# 7. Metasınıflar\n",
    "### Metasınıflar, sınıfların nasıl oluşturulduğunu kontrol eder. Python'da, bir sınıfın metası type sınıfıdır."
   ]
  },
  {
   "cell_type": "code",
   "execution_count": 7,
   "metadata": {},
   "outputs": [
    {
     "name": "stdout",
     "output_type": "stream",
     "text": [
      "Creating class MyClass\n"
     ]
    }
   ],
   "source": [
    "class Meta(type):\n",
    "    def __new__(cls, name, bases, dct):\n",
    "        print(f\"Creating class {name}\")\n",
    "        return super().__new__(cls, name, bases, dct)\n",
    "\n",
    "class MyClass(metaclass=Meta):\n",
    "    pass\n",
    "\n"
   ]
  },
  {
   "cell_type": "markdown",
   "metadata": {},
   "source": [
    "# 8. Kapsülleme (Encapsulation) ve Bilgi Saklama\n",
    "### Python'da, iki alt çizgi (__) ile başlayan isimler, özel (private) olarak kabul edilir ve doğrudan erişimi engeller."
   ]
  },
  {
   "cell_type": "code",
   "execution_count": 8,
   "metadata": {},
   "outputs": [
    {
     "name": "stdout",
     "output_type": "stream",
     "text": [
      "10\n"
     ]
    }
   ],
   "source": [
    "class MyClass:\n",
    "    def __init__(self, value):\n",
    "        self.__value = value\n",
    "\n",
    "    def get_value(self):\n",
    "        return self.__value\n",
    "\n",
    "obj = MyClass(10)\n",
    "# print(obj.__value)  # Hata: AttributeError\n",
    "print(obj.get_value())  # 10\n"
   ]
  },
  {
   "cell_type": "markdown",
   "metadata": {},
   "source": [
    "# 9. Statik Metotlar ve Sınıf Metotları\n",
    "### Statik metotlar ve sınıf metotları, sınıf ve sınıfın örnekleri ile ilgili işlevleri tanımlar."
   ]
  },
  {
   "cell_type": "code",
   "execution_count": 9,
   "metadata": {},
   "outputs": [
    {
     "name": "stdout",
     "output_type": "stream",
     "text": [
      "This is a static method\n",
      "This is a class method of <class '__main__.MyClass'>\n"
     ]
    }
   ],
   "source": [
    "class MyClass:\n",
    "    @staticmethod\n",
    "    def static_method():\n",
    "        print(\"This is a static method\")\n",
    "\n",
    "    @classmethod\n",
    "    def class_method(cls):\n",
    "        print(f\"This is a class method of {cls}\")\n",
    "\n",
    "MyClass.static_method()  # This is a static method\n",
    "MyClass.class_method()  # This is a class method of <class '__main__.MyClass'>\n"
   ]
  },
  {
   "cell_type": "markdown",
   "metadata": {},
   "source": [
    "# 10. Desenler (Design Patterns)\n",
    "Tasarım desenleri, yaygın yazılım tasarım problemlerine çözümler sunar.\n",
    "\n",
    "Singleton Pattern: Bir sınıfın sadece bir örneğinin oluşturulmasını sağlar.\n",
    "Factory Pattern: Nesne oluşturma mantığını merkezileştirir.\n",
    "Observer Pattern: Bir nesnenin durumu değiştiğinde bağlı olan diğer nesnelerin bilgilendirilmesini sağlar.\n",
    "Örnek - Singleton Pattern:"
   ]
  },
  {
   "cell_type": "code",
   "execution_count": 10,
   "metadata": {},
   "outputs": [
    {
     "name": "stdout",
     "output_type": "stream",
     "text": [
      "True\n"
     ]
    }
   ],
   "source": [
    "class Singleton:\n",
    "    _instance = None\n",
    "\n",
    "    def __new__(cls, *args, **kwargs):\n",
    "        if not cls._instance:\n",
    "            cls._instance = super(Singleton, cls).__new__(cls, *args, **kwargs)\n",
    "        return cls._instance\n",
    "\n",
    "singleton1 = Singleton()\n",
    "singleton2 = Singleton()\n",
    "print(singleton1 is singleton2)  # True\n"
   ]
  },
  {
   "cell_type": "markdown",
   "metadata": {},
   "source": [
    "# 11. Polymorphism (Çok Biçimlilik)\n",
    "### Polimorfizm, farklı sınıf örneklerinin aynı arayüzü paylaşmasını ve aynı metotları çağırabilmesini sağlar."
   ]
  },
  {
   "cell_type": "code",
   "execution_count": 11,
   "metadata": {},
   "outputs": [
    {
     "name": "stdout",
     "output_type": "stream",
     "text": [
      "Bark\n",
      "Meow\n"
     ]
    }
   ],
   "source": [
    "class Animal:\n",
    "    def speak(self):\n",
    "        pass\n",
    "\n",
    "class Dog(Animal):\n",
    "    def speak(self):\n",
    "        return \"Bark\"\n",
    "\n",
    "class Cat(Animal):\n",
    "    def speak(self):\n",
    "        return \"Meow\"\n",
    "\n",
    "animals = [Dog(), Cat()]\n",
    "for animal in animals:\n",
    "    print(animal.speak())  # Bark, Meow\n"
   ]
  },
  {
   "cell_type": "markdown",
   "metadata": {},
   "source": [
    "# 12. Composition (Bileşim)\n",
    "### Bileşim, bir sınıfın diğer sınıfları içermesi ve onların işlevselliğini kullanmasıdır."
   ]
  },
  {
   "cell_type": "code",
   "execution_count": 12,
   "metadata": {},
   "outputs": [
    {
     "name": "stdout",
     "output_type": "stream",
     "text": [
      "Engine started\n"
     ]
    }
   ],
   "source": [
    "class Engine:\n",
    "    def start(self):\n",
    "        print(\"Engine started\")\n",
    "\n",
    "class Car:\n",
    "    def __init__(self):\n",
    "        self.engine = Engine()\n",
    "\n",
    "    def start(self):\n",
    "        self.engine.start()\n",
    "\n",
    "car = Car()\n",
    "car.start()  # Engine started\n"
   ]
  },
  {
   "cell_type": "markdown",
   "metadata": {},
   "source": [
    "# 13. Interface (Arayüz)\n",
    "### Python'da doğrudan arayüz yoktur, ancak soyut sınıflar kullanılarak arayüz davranışı taklit edilebilir."
   ]
  },
  {
   "cell_type": "code",
   "execution_count": 13,
   "metadata": {},
   "outputs": [],
   "source": [
    "from abc import ABC, abstractmethod\n",
    "\n",
    "class IAnimal(ABC):\n",
    "    @abstractmethod\n",
    "    def speak(self):\n",
    "        pass\n",
    "\n",
    "class Dog(IAnimal):\n",
    "    def speak(self):\n",
    "        return \"Bark\"\n",
    "\n",
    "class Cat(IAnimal):\n",
    "    def speak(self):\n",
    "        return \"Meow\"\n"
   ]
  }
 ],
 "metadata": {
  "kernelspec": {
   "display_name": "Python 3",
   "language": "python",
   "name": "python3"
  },
  "language_info": {
   "codemirror_mode": {
    "name": "ipython",
    "version": 3
   },
   "file_extension": ".py",
   "mimetype": "text/x-python",
   "name": "python",
   "nbconvert_exporter": "python",
   "pygments_lexer": "ipython3",
   "version": "3.11.1"
  }
 },
 "nbformat": 4,
 "nbformat_minor": 2
}
