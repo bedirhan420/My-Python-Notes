{
 "cells": [
  {
   "cell_type": "markdown",
   "metadata": {},
   "source": [
    "# 1. Veri Setini Yükleme ve Hazırlama\n",
    "Örnek olarak, scikit-learn'ün sağladığı bir veri setini kullanarak başlayabiliriz. Örneğin, iris veri setini kullanalım"
   ]
  },
  {
   "cell_type": "code",
   "execution_count": 1,
   "metadata": {},
   "outputs": [],
   "source": [
    "from sklearn.datasets import load_iris\n",
    "\n",
    "# Iris veri setini yükleyin\n",
    "iris = load_iris()\n",
    "X = iris.data  # Özellikler\n",
    "y = iris.target  # Etiketler\n"
   ]
  },
  {
   "cell_type": "markdown",
   "metadata": {},
   "source": [
    "# 2. Veri Setini Eğitim ve Test Setlerine Bölme\n",
    "Modelinizi değerlendirmek için verilerinizi eğitim ve test setlerine ayırmanız önemlidir:"
   ]
  },
  {
   "cell_type": "code",
   "execution_count": 2,
   "metadata": {},
   "outputs": [],
   "source": [
    "from sklearn.model_selection import train_test_split\n",
    "\n",
    "# Verileri eğitim ve test setlerine ayırın\n",
    "X_train, X_test, y_train, y_test = train_test_split(X, y, test_size=0.3, random_state=42)\n"
   ]
  },
  {
   "cell_type": "markdown",
   "metadata": {},
   "source": [
    "# 3. Model Seçimi ve Oluşturma\n",
    "scikit-learn çok sayıda model sunar. Örneğin, basit bir sınıflandırma modeli olan K-Nearest Neighbors (KNN) kullanabiliriz:"
   ]
  },
  {
   "cell_type": "code",
   "execution_count": null,
   "metadata": {},
   "outputs": [],
   "source": [
    "from sklearn.neighbors import KNeighborsClassifier\n",
    "\n",
    "# KNN sınıflandırıcıyı oluşturun\n",
    "model = KNeighborsClassifier(n_neighbors=3)\n"
   ]
  },
  {
   "cell_type": "markdown",
   "metadata": {},
   "source": [
    "# 4. Modeli Eğitim (Fit Etme)\n",
    "Modeli eğitim verileri üzerinde fit edin:"
   ]
  },
  {
   "cell_type": "code",
   "execution_count": null,
   "metadata": {},
   "outputs": [],
   "source": [
    "# Modeli eğitim verileriyle eğitin\n",
    "model.fit(X_train, y_train)\n"
   ]
  },
  {
   "cell_type": "markdown",
   "metadata": {},
   "source": [
    "# 5. Tahminler Yapma\n",
    "Test verileri üzerinde tahminler yapın:"
   ]
  },
  {
   "cell_type": "code",
   "execution_count": null,
   "metadata": {},
   "outputs": [],
   "source": [
    "# Test verileri üzerinde tahminler yapın\n",
    "y_pred = model.predict(X_test)\n"
   ]
  },
  {
   "cell_type": "markdown",
   "metadata": {},
   "source": [
    "# 6. Model Performansını Değerlendirme\n",
    "Modelin başarımını değerlendirmek için çeşitli metrikler kullanabilirsiniz:"
   ]
  },
  {
   "cell_type": "code",
   "execution_count": null,
   "metadata": {},
   "outputs": [],
   "source": [
    "from sklearn.metrics import accuracy_score, classification_report\n",
    "\n",
    "# Modelin doğruluğunu hesaplayın\n",
    "accuracy = accuracy_score(y_test, y_pred)\n",
    "print(f\"Doğruluk: {accuracy:.2f}\")\n",
    "\n",
    "# Detaylı sınıflandırma raporu\n",
    "report = classification_report(y_test, y_pred)\n",
    "print(report)\n"
   ]
  },
  {
   "cell_type": "markdown",
   "metadata": {},
   "source": [
    "# 7. Özelliklerin Ölçeklenmesi\n",
    "Çoğu makine öğrenme modeli, özelliklerin ölçeklenmesini gerektirir. scikit-learn bu işlemi kolaylaştırır:"
   ]
  },
  {
   "cell_type": "code",
   "execution_count": null,
   "metadata": {},
   "outputs": [],
   "source": [
    "from sklearn.preprocessing import StandardScaler\n",
    "\n",
    "# Özellikleri ölçeklendirin\n",
    "scaler = StandardScaler()\n",
    "X_train_scaled = scaler.fit_transform(X_train)\n",
    "X_test_scaled = scaler.transform(X_test)\n"
   ]
  },
  {
   "cell_type": "markdown",
   "metadata": {},
   "source": [
    "# 8. Model Seçimi ve Hiperparametre Tuning\n",
    "Modelinizi seçerken ve hiperparametreleri ayarlarken GridSearchCV veya RandomizedSearchCV kullanabilirsiniz:"
   ]
  },
  {
   "cell_type": "code",
   "execution_count": null,
   "metadata": {},
   "outputs": [],
   "source": [
    "from sklearn.model_selection import GridSearchCV\n",
    "\n",
    "# Hiperparametreler için bir ızgara oluşturun\n",
    "param_grid = {'n_neighbors': [1, 3, 5, 7, 9]}\n",
    "\n",
    "# GridSearchCV nesnesini oluşturun\n",
    "grid_search = GridSearchCV(KNeighborsClassifier(), param_grid, cv=5)\n",
    "grid_search.fit(X_train, y_train)\n",
    "\n",
    "# En iyi hiperparametreleri ve skoru yazdırın\n",
    "print(f\"En iyi parametreler: {grid_search.best_params_}\")\n",
    "print(f\"En iyi skor: {grid_search.best_score_:.2f}\")\n"
   ]
  }
 ],
 "metadata": {
  "kernelspec": {
   "display_name": "Python 3",
   "language": "python",
   "name": "python3"
  },
  "language_info": {
   "codemirror_mode": {
    "name": "ipython",
    "version": 3
   },
   "file_extension": ".py",
   "mimetype": "text/x-python",
   "name": "python",
   "nbconvert_exporter": "python",
   "pygments_lexer": "ipython3",
   "version": "3.11.1"
  }
 },
 "nbformat": 4,
 "nbformat_minor": 2
}
