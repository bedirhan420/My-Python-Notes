{
 "cells": [
  {
   "cell_type": "markdown",
   "metadata": {},
   "source": [
    "# 1. Broadcasting\n",
    "Numpy'nin broadcasting özelliği, farklı boyutlardaki diziler üzerinde aritmetik işlemler yapmayı kolaylaştırır."
   ]
  },
  {
   "cell_type": "code",
   "execution_count": 1,
   "metadata": {},
   "outputs": [
    {
     "name": "stdout",
     "output_type": "stream",
     "text": [
      "[[ 2  2  4]\n",
      " [ 5  5  7]\n",
      " [ 8  8 10]]\n"
     ]
    }
   ],
   "source": [
    "import numpy as np\n",
    "\n",
    "# İki boyutlu dizi\n",
    "a = np.array([[1, 2, 3],\n",
    "              [4, 5, 6],\n",
    "              [7, 8, 9]])\n",
    "\n",
    "# Tek boyutlu dizi\n",
    "b = np.array([1, 0, 1])\n",
    "\n",
    "# Broadcasting ile toplama\n",
    "result = a + b\n",
    "print(result)\n"
   ]
  },
  {
   "cell_type": "markdown",
   "metadata": {},
   "source": [
    "# 2. Gelişmiş Diziler\n",
    "Numpy'de maskeleme, boolean diziler kullanarak veri seçme ve filtreleme işlemleri yapmayı sağlar."
   ]
  },
  {
   "cell_type": "code",
   "execution_count": 2,
   "metadata": {},
   "outputs": [
    {
     "name": "stdout",
     "output_type": "stream",
     "text": [
      "[ 2  4  6  8 10]\n"
     ]
    }
   ],
   "source": [
    "data = np.array([1, 2, 3, 4, 5, 6, 7, 8, 9, 10])\n",
    "mask = data % 2 == 0  # Çift sayıları seçme maskesi\n",
    "\n",
    "# Maskeyi uygulama\n",
    "even_data = data[mask]\n",
    "print(even_data)\n"
   ]
  },
  {
   "cell_type": "markdown",
   "metadata": {},
   "source": [
    "# 3. Fancy Indexing\n",
    "Fancy indexing ile, bir diziden belirli indekslerdeki elemanları seçebilirsiniz."
   ]
  },
  {
   "cell_type": "code",
   "execution_count": 3,
   "metadata": {},
   "outputs": [
    {
     "name": "stdout",
     "output_type": "stream",
     "text": [
      "[10 30 50 70]\n"
     ]
    }
   ],
   "source": [
    "a = np.arange(0, 100, 10)\n",
    "indices = [1, 3, 5, 7]\n",
    "selected_elements = a[indices]\n",
    "print(selected_elements)\n"
   ]
  },
  {
   "cell_type": "markdown",
   "metadata": {},
   "source": [
    "# 4. Çok Boyutlu Dizilerde Çalışma\n",
    "Numpy, çok boyutlu dizilerle çalışmayı kolaylaştırır."
   ]
  },
  {
   "cell_type": "code",
   "execution_count": 4,
   "metadata": {},
   "outputs": [
    {
     "name": "stdout",
     "output_type": "stream",
     "text": [
      "[[0.36086341 0.63940219 0.63664129]\n",
      " [0.57604993 0.34325262 0.55481224]\n",
      " [0.46449721 0.65552496 0.57327549]]\n"
     ]
    }
   ],
   "source": [
    "# Üç boyutlu dizi oluşturma\n",
    "a = np.random.random((3, 3, 3))\n",
    "\n",
    "# İlk iki boyutun ortalamasını alma\n",
    "mean_across_axis_2 = a.mean(axis=2)\n",
    "print(mean_across_axis_2)"
   ]
  },
  {
   "cell_type": "markdown",
   "metadata": {},
   "source": [
    "# 5. Lineer Cebir Fonksiyonları\n",
    "Numpy, lineer cebir işlemleri için geniş bir fonksiyon seti sunar."
   ]
  },
  {
   "cell_type": "code",
   "execution_count": 5,
   "metadata": {},
   "outputs": [
    {
     "name": "stdout",
     "output_type": "stream",
     "text": [
      "[[19 22]\n",
      " [43 50]]\n",
      "[[-2.   1. ]\n",
      " [ 1.5 -0.5]]\n"
     ]
    }
   ],
   "source": [
    "# 2x2 matrisler oluşturma\n",
    "a = np.array([[1, 2],\n",
    "              [3, 4]])\n",
    "\n",
    "b = np.array([[5, 6],\n",
    "              [7, 8]])\n",
    "\n",
    "# Matris çarpımı\n",
    "result = np.dot(a, b)\n",
    "print(result)\n",
    "\n",
    "# Matris tersini alma\n",
    "inverse = np.linalg.inv(a)\n",
    "print(inverse)\n"
   ]
  },
  {
   "cell_type": "markdown",
   "metadata": {},
   "source": [
    "# 6. Numpy ile Hızlı Fourier Dönüşümü\n",
    "Numpy, hızlı Fourier dönüşümü (FFT) için fonksiyonlar sağlar."
   ]
  },
  {
   "cell_type": "code",
   "execution_count": 6,
   "metadata": {},
   "outputs": [
    {
     "name": "stdout",
     "output_type": "stream",
     "text": [
      "[ 1.79193145e+01+0.00000000e+00j  2.90406819e+01+6.28986843e+00j\n",
      " -3.18747680e+01-1.40670162e+01j -6.80074220e+00-4.64799794e+00j\n",
      " -3.09680330e+00-2.95681595e+00j -1.73383369e+00-2.20544267e+00j\n",
      " -1.06505379e+00-1.76882364e+00j -6.83376206e-01-1.47918651e+00j\n",
      " -4.43781497e-01-1.27116185e+00j -2.83072950e-01-1.11357181e+00j\n",
      " -1.69856152e-01-9.89506783e-01j -8.70133779e-02-8.88939260e-01j\n",
      " -2.45337524e-02-8.05518502e-01j  2.37676830e-02-7.35013733e-01j\n",
      "  6.18851876e-02-6.74490970e-01j  9.24943247e-02-6.21847884e-01j\n",
      "  1.17443278e-01-5.75536538e-01j  1.38042638e-01-5.34390674e-01j\n",
      "  1.55243083e-01-4.97514101e-01j  1.69747994e-01-4.64206254e-01j\n",
      "  1.82086933e-01-4.33911195e-01j  1.92664808e-01-4.06181838e-01j\n",
      "  2.01795524e-01-3.80654324e-01j  2.09725474e-01-3.57029335e-01j\n",
      "  2.16650233e-01-3.35058230e-01j  2.22726624e-01-3.14532622e-01j\n",
      "  2.28081559e-01-2.95276415e-01j  2.32818608e-01-2.77139670e-01j\n",
      "  2.37022945e-01-2.59993807e-01j  2.40765099e-01-2.43727820e-01j\n",
      "  2.44103850e-01-2.28245276e-01j  2.47088463e-01-2.13461884e-01j\n",
      "  2.49760448e-01-1.99303544e-01j  2.52154940e-01-1.85704744e-01j\n",
      "  2.54301802e-01-1.72607247e-01j  2.56226501e-01-1.59958997e-01j\n",
      "  2.57950825e-01-1.47713215e-01j  2.59493450e-01-1.35827634e-01j\n",
      "  2.60870412e-01-1.24263854e-01j  2.62095489e-01-1.12986794e-01j\n",
      "  2.63180513e-01-1.01964223e-01j  2.64135629e-01-9.11663496e-02j\n",
      "  2.64969509e-01-8.05654761e-02j  2.65689524e-01-7.01356844e-02j\n",
      "  2.66301890e-01-5.98525646e-02j  2.66811785e-01-4.96929706e-02j\n",
      "  2.67223444e-01-3.96348005e-02j  2.67540236e-01-2.96567951e-02j\n",
      "  2.67764723e-01-1.97383527e-02j  2.67898704e-01-9.85935459e-03j\n",
      "  2.67943246e-01-4.16333634e-16j  2.67898704e-01+9.85935459e-03j\n",
      "  2.67764723e-01+1.97383527e-02j  2.67540236e-01+2.96567951e-02j\n",
      "  2.67223444e-01+3.96348005e-02j  2.66811785e-01+4.96929706e-02j\n",
      "  2.66301890e-01+5.98525646e-02j  2.65689524e-01+7.01356844e-02j\n",
      "  2.64969509e-01+8.05654761e-02j  2.64135629e-01+9.11663496e-02j\n",
      "  2.63180513e-01+1.01964223e-01j  2.62095489e-01+1.12986794e-01j\n",
      "  2.60870412e-01+1.24263854e-01j  2.59493450e-01+1.35827634e-01j\n",
      "  2.57950825e-01+1.47713215e-01j  2.56226501e-01+1.59958997e-01j\n",
      "  2.54301802e-01+1.72607247e-01j  2.52154940e-01+1.85704744e-01j\n",
      "  2.49760448e-01+1.99303544e-01j  2.47088463e-01+2.13461884e-01j\n",
      "  2.44103850e-01+2.28245276e-01j  2.40765099e-01+2.43727820e-01j\n",
      "  2.37022945e-01+2.59993807e-01j  2.32818608e-01+2.77139670e-01j\n",
      "  2.28081559e-01+2.95276415e-01j  2.22726624e-01+3.14532622e-01j\n",
      "  2.16650233e-01+3.35058230e-01j  2.09725474e-01+3.57029335e-01j\n",
      "  2.01795524e-01+3.80654324e-01j  1.92664808e-01+4.06181838e-01j\n",
      "  1.82086933e-01+4.33911195e-01j  1.69747994e-01+4.64206254e-01j\n",
      "  1.55243083e-01+4.97514101e-01j  1.38042638e-01+5.34390674e-01j\n",
      "  1.17443278e-01+5.75536538e-01j  9.24943247e-02+6.21847884e-01j\n",
      "  6.18851876e-02+6.74490970e-01j  2.37676830e-02+7.35013733e-01j\n",
      " -2.45337524e-02+8.05518502e-01j -8.70133779e-02+8.88939260e-01j\n",
      " -1.69856152e-01+9.89506783e-01j -2.83072950e-01+1.11357181e+00j\n",
      " -4.43781497e-01+1.27116185e+00j -6.83376206e-01+1.47918651e+00j\n",
      " -1.06505379e+00+1.76882364e+00j -1.73383369e+00+2.20544267e+00j\n",
      " -3.09680330e+00+2.95681595e+00j -6.80074220e+00+4.64799794e+00j\n",
      " -3.18747680e+01+1.40670162e+01j  2.90406819e+01-6.28986843e+00j]\n"
     ]
    }
   ],
   "source": [
    "# Sinüs dalgası oluşturma\n",
    "x = np.linspace(0, 10, 100)\n",
    "y = np.sin(x)\n",
    "\n",
    "# FFT uygulama\n",
    "fft_y = np.fft.fft(y)\n",
    "print(fft_y)\n"
   ]
  },
  {
   "cell_type": "markdown",
   "metadata": {},
   "source": [
    "# 7. Rastgele Sayı Üretimi\n",
    "Numpy ile rastgele sayılar üretmek oldukça kolaydır."
   ]
  },
  {
   "cell_type": "code",
   "execution_count": 7,
   "metadata": {},
   "outputs": [
    {
     "name": "stdout",
     "output_type": "stream",
     "text": [
      "[0.26691767 0.61472297 0.94268573 0.50154015 0.27988303 0.48293233\n",
      " 0.24389968 0.53780755 0.45570703 0.46534795]\n",
      "[-0.91501001 -0.80720086 -0.04073217 -1.37642133  0.19416644  0.10398026\n",
      " -0.3703536   0.6129869   0.97165484 -0.92241694]\n"
     ]
    }
   ],
   "source": [
    "# 10 elemanlı rastgele dizi\n",
    "random_numbers = np.random.rand(10)\n",
    "print(random_numbers)\n",
    "\n",
    "# Normal dağılıma sahip rastgele sayılar\n",
    "normal_random_numbers = np.random.randn(10)\n",
    "print(normal_random_numbers)\n"
   ]
  },
  {
   "cell_type": "markdown",
   "metadata": {},
   "source": [
    "# 8. Numpy'nin where Fonksiyonu\n",
    "where fonksiyonu, koşullu seçim işlemlerini kolaylaştırır."
   ]
  },
  {
   "cell_type": "code",
   "execution_count": 8,
   "metadata": {},
   "outputs": [
    {
     "name": "stdout",
     "output_type": "stream",
     "text": [
      "[-1 -1  3  4  5]\n"
     ]
    }
   ],
   "source": [
    "x = np.array([1, 2, 3, 4, 5])\n",
    "y = np.where(x > 2, x, -1)  # x > 2 olan elemanları tut, diğerlerini -1 yap\n",
    "print(y)\n"
   ]
  },
  {
   "cell_type": "markdown",
   "metadata": {},
   "source": [
    "# 9. Bellek Kullanımını Azaltma\n",
    "Numpy'nin astype fonksiyonu ile dizilerin veri tiplerini değiştirebilirsiniz, bu da bellek kullanımını azaltabilir."
   ]
  },
  {
   "cell_type": "code",
   "execution_count": 9,
   "metadata": {},
   "outputs": [
    {
     "name": "stdout",
     "output_type": "stream",
     "text": [
      "8000000\n",
      "4000000\n"
     ]
    }
   ],
   "source": [
    "# Büyük bir float64 dizisi oluşturma\n",
    "a = np.random.rand(1000000).astype(np.float64)\n",
    "print(a.nbytes)\n",
    "\n",
    "# Diziyi float32'ye dönüştürme\n",
    "a = a.astype(np.float32)\n",
    "print(a.nbytes)\n"
   ]
  },
  {
   "cell_type": "markdown",
   "metadata": {},
   "source": [
    "# 10. İleri Seviye Dizinleme ve Dilimleme\n",
    "Numpy, dizileri karmaşık şekillerde dilimlemeyi ve dizinlemeyi destekler."
   ]
  },
  {
   "cell_type": "code",
   "execution_count": 10,
   "metadata": {},
   "outputs": [
    {
     "name": "stdout",
     "output_type": "stream",
     "text": [
      "[[ 7  8  9]\n",
      " [12 13 14]]\n"
     ]
    }
   ],
   "source": [
    "a = np.array([[1, 2, 3, 4, 5],\n",
    "              [6, 7, 8, 9, 10],\n",
    "              [11, 12, 13, 14, 15]])\n",
    "\n",
    "# İkinci ve üçüncü satırları, ikinci ve dördüncü sütunlar arasında seçme\n",
    "sliced_array = a[1:3, 1:4]\n",
    "print(sliced_array)"
   ]
  }
 ],
 "metadata": {
  "kernelspec": {
   "display_name": "Python 3",
   "language": "python",
   "name": "python3"
  },
  "language_info": {
   "codemirror_mode": {
    "name": "ipython",
    "version": 3
   },
   "file_extension": ".py",
   "mimetype": "text/x-python",
   "name": "python",
   "nbconvert_exporter": "python",
   "pygments_lexer": "ipython3",
   "version": "3.11.1"
  }
 },
 "nbformat": 4,
 "nbformat_minor": 2
}
