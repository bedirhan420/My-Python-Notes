{
 "cells": [
  {
   "cell_type": "markdown",
   "metadata": {},
   "source": [
    "# 1. Temel İşlemler \n",
    "### Gruplama (Grouping) , Sıralama (Sort),loc,iloc,query \n",
    "Gruplama işlemleri, veri analizinde çok sık kullanılır. groupby fonksiyonu ile veri gruplandırabilir ve çeşitli istatistikler hesaplayabilirsiniz."
   ]
  },
  {
   "cell_type": "code",
   "execution_count": 5,
   "metadata": {},
   "outputs": [
    {
     "name": "stdout",
     "output_type": "stream",
     "text": [
      "Takım Bazında Oyuncu Sayıları:\n",
      " Team\n",
      "CHI    2\n",
      "DAL    2\n",
      "OKC    2\n",
      "dtype: int64\n",
      "\n",
      "Tüm Takımlar İçin Ortalama Yaş ve Toplam Puanlar:\n",
      "   Team   Age  Points\n",
      "0  CHI  25.5      40\n",
      "1  DAL  29.0      35\n",
      "2  OKC  23.5      55\n",
      "\n",
      "Ortalama Yaşa Göre Sıralama:\n",
      "   Team   Age  Points\n",
      "2  OKC  23.5      55\n",
      "0  CHI  25.5      40\n",
      "1  DAL  29.0      35\n",
      "\n",
      "OKC Takımı Oyuncuları:\n",
      "     Player Team Position  Points  Age\n",
      "0  Player1  OKC        G      25   25\n",
      "2  Player3  OKC        F      30   22\n",
      "\n",
      "İlk 3 Satır ve İlk 2 Sütun:\n",
      "     Player Team\n",
      "0  Player1  OKC\n",
      "1  Player2  DAL\n",
      "2  Player3  OKC\n",
      "\n",
      "25 Yaş Üstü Oyuncular:\n",
      "     Player Team Position  Points  Age\n",
      "1  Player2  DAL        F      20   30\n",
      "3  Player4  DAL        C      15   28\n",
      "5  Player6  CHI        F      18   27\n"
     ]
    }
   ],
   "source": [
    "import pandas as pd\n",
    "\n",
    "# Örnek DataFrame\n",
    "data = {\n",
    "    'Player': ['Player1', 'Player2', 'Player3', 'Player4', 'Player5', 'Player6'],\n",
    "    'Team': ['OKC', 'DAL', 'OKC', 'DAL', 'CHI', 'CHI'],\n",
    "    'Position': ['G', 'F', 'F', 'C', 'G', 'F'],\n",
    "    'Points': [25, 20, 30, 15, 22, 18],\n",
    "    'Age': [25, 30, 22, 28, 24, 27]\n",
    "}\n",
    "\n",
    "df = pd.DataFrame(data)\n",
    "\n",
    "# 1. Gruplama (Grouping) - Takım bazında oyuncu sayısını hesaplama\n",
    "team_group = df.groupby('Team').size()\n",
    "print(\"Takım Bazında Oyuncu Sayıları:\\n\", team_group)\n",
    "\n",
    "# 2. Gruplama ve İstatistikler - Takıma göre ortalama yaş ve toplam puanları hesaplama\n",
    "team_stats = df.groupby('Team').agg({\n",
    "    'Age': 'mean',     # Ortalama yaş\n",
    "    'Points': 'sum'    # Toplam puan\n",
    "}).reset_index()\n",
    "print(\"\\nTüm Takımlar İçin Ortalama Yaş ve Toplam Puanlar:\\n\", team_stats)\n",
    "\n",
    "# 3. Sıralama (Sort) - Ortalama yaşa göre sıralama\n",
    "sorted_team_stats = team_stats.sort_values(by='Age')\n",
    "print(\"\\nOrtalama Yaşa Göre Sıralama:\\n\", sorted_team_stats)\n",
    "\n",
    "# 4. loc - Belirli bir takım için tüm oyuncuları seçme\n",
    "okc_players = df.loc[df['Team'] == 'OKC']\n",
    "print(\"\\nOKC Takımı Oyuncuları:\\n\", okc_players)\n",
    "\n",
    "# 5. iloc - Satır ve sütun indekslerine göre veri seçme (örneğin: ilk 3 satır ve ilk 2 sütun)\n",
    "subset_df = df.iloc[:3, :2]\n",
    "print(\"\\nİlk 3 Satır ve İlk 2 Sütun:\\n\", subset_df)\n",
    "\n",
    "# 6. query - Belirli bir yaşın üstündeki oyuncuları sorgulama\n",
    "older_players = df.query('Age > 25')\n",
    "print(\"\\n25 Yaş Üstü Oyuncular:\\n\", older_players)\n"
   ]
  },
  {
   "cell_type": "markdown",
   "metadata": {},
   "source": [
    "# 2. Pivot Tablolar (Pivot Tables)\n",
    "Pivot tablolar, verileri hızlı bir şekilde özetlemek ve analiz etmek için çok kullanışlıdır."
   ]
  },
  {
   "cell_type": "code",
   "execution_count": 2,
   "metadata": {},
   "outputs": [
    {
     "name": "stdout",
     "output_type": "stream",
     "text": [
      "Product   P1   P2\n",
      "Company          \n",
      "A        100  150\n",
      "B        200  130\n",
      "C        140  180\n"
     ]
    }
   ],
   "source": [
    "# Pivot tablo oluşturma\n",
    "pivot = df.pivot_table(values='Sales', index='Company', columns='Product', aggfunc='sum')\n",
    "print(pivot)\n"
   ]
  },
  {
   "cell_type": "markdown",
   "metadata": {},
   "source": [
    "# 3. Zaman Serileri (Time Series)\n",
    "Pandas, zaman serileri ile çalışmak için güçlü araçlar sunar. Zaman damgalarını indeks olarak kullanarak veri analizini kolaylaştırabilirsiniz.\n",
    "\n",
    "\n"
   ]
  },
  {
   "cell_type": "code",
   "execution_count": 4,
   "metadata": {},
   "outputs": [
    {
     "name": "stdout",
     "output_type": "stream",
     "text": [
      "            data\n",
      "date            \n",
      "2023-01-01    66\n",
      "2023-01-02    43\n",
      "2023-01-03    22\n",
      "2023-01-04     4\n",
      "2023-01-05     4\n",
      "2023-01-06    10\n",
      "2023-01-07    97\n",
      "2023-01-08    33\n",
      "2023-01-09    92\n",
      "2023-01-10    63\n",
      "            data\n",
      "date            \n",
      "2023-01-01  66.0\n",
      "2023-01-02  43.0\n",
      "2023-01-03  22.0\n",
      "2023-01-04   4.0\n",
      "2023-01-05   4.0\n",
      "2023-01-06  10.0\n",
      "2023-01-07  97.0\n",
      "2023-01-08  33.0\n",
      "2023-01-09  92.0\n",
      "2023-01-10  63.0\n"
     ]
    }
   ],
   "source": [
    "# Zaman serisi verisi oluşturma\n",
    "import numpy as np\n",
    "date_rng = pd.date_range(start='2023-01-01', end='2023-01-10', freq='D')\n",
    "df_time = pd.DataFrame(date_rng, columns=['date'])\n",
    "df_time['data'] = np.random.randint(0, 100, size=(len(date_rng)))\n",
    "\n",
    "df_time = df_time.set_index('date')\n",
    "print(df_time)\n",
    "\n",
    "# Zaman serisi verisini yeniden örnekleme\n",
    "df_resampled = df_time.resample('D').mean()\n",
    "print(df_resampled)\n"
   ]
  },
  {
   "cell_type": "markdown",
   "metadata": {},
   "source": [
    "# 4. Eksik Veri İşleme (Handling Missing Data)\n",
    "Pandas, eksik verileri kolayca doldurmak veya çıkarmak için çeşitli yöntemler sunar."
   ]
  },
  {
   "cell_type": "code",
   "execution_count": 5,
   "metadata": {},
   "outputs": [
    {
     "name": "stdout",
     "output_type": "stream",
     "text": [
      "     A     B   C\n",
      "0  1.0   5.0  10\n",
      "1  2.0   5.0  20\n",
      "2  2.0   5.0  30\n",
      "3  4.0   8.0  40\n",
      "4  5.0  10.0  50\n"
     ]
    }
   ],
   "source": [
    "# Eksik veri içeren örnek veri\n",
    "data = {\n",
    "    'A': [1, 2, np.nan, 4, 5],\n",
    "    'B': [5, np.nan, np.nan, 8, 10],\n",
    "    'C': [10, 20, 30, 40, 50]\n",
    "}\n",
    "df_missing = pd.DataFrame(data)\n",
    "\n",
    "# Eksik verileri doldurma\n",
    "df_filled = df_missing.fillna(method='ffill')\n",
    "print(df_filled)\n"
   ]
  },
  {
   "cell_type": "markdown",
   "metadata": {},
   "source": [
    "# 5. İleri Seviye İndeksleme (Advanced Indexing)\n",
    "Pandas, verileri daha esnek ve güçlü bir şekilde indekslemenizi sağlar."
   ]
  },
  {
   "cell_type": "code",
   "execution_count": 6,
   "metadata": {},
   "outputs": [
    {
     "name": "stdout",
     "output_type": "stream",
     "text": [
      "                 Sales\n",
      "Company Product       \n",
      "A       one         10\n",
      "        two         20\n",
      "B       one         30\n",
      "        two         40\n"
     ]
    }
   ],
   "source": [
    "# Çok seviyeli indeksleme (Multi-indexing)\n",
    "arrays = [\n",
    "    ['A', 'A', 'B', 'B'],\n",
    "    ['one', 'two', 'one', 'two']\n",
    "]\n",
    "index = pd.MultiIndex.from_arrays(arrays, names=('Company', 'Product'))\n",
    "df_multi = pd.DataFrame({'Sales': [10, 20, 30, 40]}, index=index)\n",
    "print(df_multi)\n"
   ]
  },
  {
   "cell_type": "markdown",
   "metadata": {},
   "source": [
    "# 6. Apply Fonksiyonu ile Veri Dönüşümü\n",
    "apply fonksiyonu, DataFrame üzerinde eleman bazında işlemler yapmanızı sağlar."
   ]
  },
  {
   "cell_type": "code",
   "execution_count": 7,
   "metadata": {},
   "outputs": [
    {
     "name": "stdout",
     "output_type": "stream",
     "text": [
      "    A   B  Total\n",
      "0  10  20     30\n",
      "1  20  30     50\n",
      "2  30  40     70\n"
     ]
    }
   ],
   "source": [
    "# Örnek veri\n",
    "df = pd.DataFrame({\n",
    "    'A': [10, 20, 30],\n",
    "    'B': [20, 30, 40]\n",
    "})\n",
    "\n",
    "# Her satırdaki elemanların toplamını hesaplama\n",
    "df['Total'] = df.apply(lambda row: row.A + row.B, axis=1)\n",
    "print(df)\n"
   ]
  },
  {
   "cell_type": "markdown",
   "metadata": {},
   "source": [
    "# 7. Birleştirme ve Birlikte Kullanma (Merging and Joining)\n",
    "Pandas, farklı DataFrame'leri birleştirmek için güçlü araçlar sunar."
   ]
  },
  {
   "cell_type": "code",
   "execution_count": 4,
   "metadata": {},
   "outputs": [
    {
     "name": "stdout",
     "output_type": "stream",
     "text": [
      "  key  value_x  value_y\n",
      "0   B        2        5\n",
      "1   D        4        6\n",
      "  key  value_x  value_y\n",
      "0   A        1      NaN\n",
      "1   B        2      5.0\n",
      "2   C        3      NaN\n",
      "3   D        4      6.0\n",
      "  key  value_x  value_y\n",
      "0   B      2.0        5\n",
      "1   D      4.0        6\n",
      "2   E      NaN        7\n",
      "3   F      NaN        8\n",
      "  key  value_x  value_y\n",
      "0   A      1.0      NaN\n",
      "1   B      2.0      5.0\n",
      "2   C      3.0      NaN\n",
      "3   D      4.0      6.0\n",
      "4   E      NaN      7.0\n",
      "5   F      NaN      8.0\n"
     ]
    }
   ],
   "source": [
    "# İki veri çerçevesi oluşturma\n",
    "left = pd.DataFrame({'key': ['A', 'B', 'C', 'D'], 'value': [1, 2, 3, 4]})\n",
    "right = pd.DataFrame({'key': ['B', 'D', 'E', 'F'], 'value': [5, 6, 7, 8]})\n",
    "\n",
    "# Birleştirme işlemi\n",
    "merged_inner = pd.merge(left, right, on='key', how='inner')\n",
    "print(merged_inner)\n",
    "\n",
    "merged_left = pd.merge(left, right, on='key', how=\"left\")\n",
    "print(merged_left)\n",
    "\n",
    "merged_right = pd.merge(left, right, on='key', how=\"right\")\n",
    "print(merged_right)\n",
    "\n",
    "merged_outer = pd.merge(left, right, on='key', how=\"outer\")\n",
    "print(merged_outer)\n"
   ]
  },
  {
   "cell_type": "markdown",
   "metadata": {},
   "source": [
    "# 8. Bellek Kullanımını Azaltma\n",
    "Büyük veri setleriyle çalışırken bellek kullanımını azaltmak önemlidir."
   ]
  },
  {
   "cell_type": "code",
   "execution_count": 9,
   "metadata": {},
   "outputs": [
    {
     "name": "stdout",
     "output_type": "stream",
     "text": [
      "<class 'pandas.core.frame.DataFrame'>\n",
      "RangeIndex: 3 entries, 0 to 2\n",
      "Data columns (total 3 columns):\n",
      " #   Column  Non-Null Count  Dtype\n",
      "---  ------  --------------  -----\n",
      " 0   A       3 non-null      int32\n",
      " 1   B       3 non-null      int32\n",
      " 2   Total   3 non-null      int64\n",
      "dtypes: int32(2), int64(1)\n",
      "memory usage: 176.0 bytes\n",
      "None\n"
     ]
    }
   ],
   "source": [
    "# Veri tiplerini optimize etme\n",
    "df_optimized = df.astype({'A': 'int32', 'B': 'int32'})\n",
    "print(df_optimized.info())\n"
   ]
  },
  {
   "cell_type": "markdown",
   "metadata": {},
   "source": [
    "# 9. Koşullu Seçim (Conditional Selection)\n",
    "Koşullu seçim ile veri çerçevesindeki belirli koşulları sağlayan verileri seçebilirsiniz."
   ]
  },
  {
   "cell_type": "code",
   "execution_count": 10,
   "metadata": {},
   "outputs": [
    {
     "name": "stdout",
     "output_type": "stream",
     "text": [
      "   A   B\n",
      "2  3  30\n",
      "3  4  40\n"
     ]
    }
   ],
   "source": [
    "# Örnek veri\n",
    "df = pd.DataFrame({\n",
    "    'A': [1, 2, 3, 4],\n",
    "    'B': [10, 20, 30, 40]\n",
    "})\n",
    "\n",
    "# Koşullu seçim\n",
    "selected = df[df['A'] > 2]\n",
    "print(selected)\n"
   ]
  },
  {
   "cell_type": "markdown",
   "metadata": {},
   "source": [
    "# 10. String Fonksiyonları\n",
    "Pandas, metin verileri üzerinde çalışmak için çeşitli string fonksiyonları sunar."
   ]
  },
  {
   "cell_type": "code",
   "execution_count": 11,
   "metadata": {},
   "outputs": [
    {
     "name": "stdout",
     "output_type": "stream",
     "text": [
      "         Name  Name_upper\n",
      "0    John Doe    JOHN DOE\n",
      "1  Jane Smith  JANE SMITH\n",
      "2    Sara Lee    SARA LEE\n"
     ]
    }
   ],
   "source": [
    "# Örnek veri\n",
    "df = pd.DataFrame({'Name': ['John Doe', 'Jane Smith', 'Sara Lee']})\n",
    "\n",
    "# Büyük harfe çevirme\n",
    "df['Name_upper'] = df['Name'].str.upper()\n",
    "print(df)\n"
   ]
  }
 ],
 "metadata": {
  "kernelspec": {
   "display_name": "Python 3",
   "language": "python",
   "name": "python3"
  },
  "language_info": {
   "codemirror_mode": {
    "name": "ipython",
    "version": 3
   },
   "file_extension": ".py",
   "mimetype": "text/x-python",
   "name": "python",
   "nbconvert_exporter": "python",
   "pygments_lexer": "ipython3",
   "version": "3.11.1"
  }
 },
 "nbformat": 4,
 "nbformat_minor": 2
}
