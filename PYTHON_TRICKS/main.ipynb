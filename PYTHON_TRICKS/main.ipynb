{
 "cells": [
  {
   "cell_type": "markdown",
   "metadata": {},
   "source": [
    "# 1. List Comprehensions (Liste Anlamları)\n",
    "### Liste anlamları, listeleri hızlı ve okunabilir bir şekilde oluşturmanın bir yoludur."
   ]
  },
  {
   "cell_type": "code",
   "execution_count": 1,
   "metadata": {},
   "outputs": [
    {
     "data": {
      "text/plain": [
       "[0, 1, 4, 9, 16, 25, 36, 49, 64, 81]"
      ]
     },
     "execution_count": 1,
     "metadata": {},
     "output_type": "execute_result"
    }
   ],
   "source": [
    "# geleneksel\n",
    "squares = []\n",
    "for i in range(10):\n",
    "    squares.append(i**2)\n",
    "\n",
    "# list comprehension\n",
    "squares = [i**2 for i in range(10)]\n",
    "squares"
   ]
  },
  {
   "cell_type": "markdown",
   "metadata": {},
   "source": [
    "# 2. Generator Expressions (Generator Anlamları)\n",
    "### Liste anlamlarına benzer, ancak bellek verimliliği açısından daha iyidirler çünkü tüm listeyi bellekte tutmazlar."
   ]
  },
  {
   "cell_type": "code",
   "execution_count": 4,
   "metadata": {},
   "outputs": [
    {
     "data": {
      "text/plain": [
       "[0, 1, 4, 9, 16, 25, 36, 49, 64, 81]"
      ]
     },
     "execution_count": 4,
     "metadata": {},
     "output_type": "execute_result"
    }
   ],
   "source": [
    "# List comprehension\n",
    "squares_list = [x**2 for x in range(10)]\n",
    "\n",
    "# Generator expression\n",
    "squares_gen = (x**2 for x in range(10))\n",
    "\n",
    "list(squares_gen)"
   ]
  },
  {
   "cell_type": "markdown",
   "metadata": {},
   "source": [
    "# 3. Dictionary and Set Comprehensions (Sözlük ve Küme Anlamları)\n",
    "### Sözlükler ve kümeler için de anlamlar kullanabilirsiniz."
   ]
  },
  {
   "cell_type": "code",
   "execution_count": 5,
   "metadata": {},
   "outputs": [
    {
     "name": "stdout",
     "output_type": "stream",
     "text": [
      "{0: 0, 1: 1, 2: 4, 3: 9, 4: 16, 5: 25, 6: 36, 7: 49, 8: 64, 9: 81}\n",
      "{0, 1, 64, 4, 36, 9, 16, 49, 81, 25}\n"
     ]
    }
   ],
   "source": [
    "# Dictionary comprehension\n",
    "squares_dict = {x: x**2 for x in range(10)}\n",
    "\n",
    "# Set comprehension\n",
    "squares_set = {x**2 for x in range(10)}\n",
    "\n",
    "print(squares_dict)\n",
    "print(squares_set)"
   ]
  },
  {
   "cell_type": "markdown",
   "metadata": {},
   "source": [
    "# 4. Lambda Fonksiyonları\n",
    "### Lambda fonksiyonları, kısa ve geçici fonksiyonlar oluşturmanın bir yoludur."
   ]
  },
  {
   "cell_type": "code",
   "execution_count": 8,
   "metadata": {},
   "outputs": [
    {
     "data": {
      "text/plain": [
       "25"
      ]
     },
     "execution_count": 8,
     "metadata": {},
     "output_type": "execute_result"
    }
   ],
   "source": [
    "# Geleneksel yöntem\n",
    "def square(x):\n",
    "    return x**2\n",
    "\n",
    "# Lambda fonksiyonu\n",
    "square = lambda x: x**2\n",
    "\n",
    "square(5)"
   ]
  },
  {
   "cell_type": "markdown",
   "metadata": {},
   "source": [
    "# 5. Map, Filter, Reduce Fonksiyonları\n",
    "### Bu fonksiyonlar, yüksek seviyeli fonksiyonel programlama yöntemleri sağlar."
   ]
  },
  {
   "cell_type": "code",
   "execution_count": 9,
   "metadata": {},
   "outputs": [
    {
     "name": "stdout",
     "output_type": "stream",
     "text": [
      "[0, 1, 4, 9, 16, 25, 36, 49, 64, 81]\n",
      "[0, 2, 4, 6, 8]\n",
      "362880\n"
     ]
    }
   ],
   "source": [
    "from functools import reduce\n",
    "\n",
    "# Map\n",
    "squares = list(map(lambda x: x**2, range(10)))\n",
    "\n",
    "# Filter\n",
    "evens = list(filter(lambda x: x % 2 == 0, range(10)))\n",
    "\n",
    "# Reduce\n",
    "product = reduce(lambda x, y: x * y, range(1, 10))\n",
    "\n",
    "print(squares)\n",
    "print(evens)\n",
    "print(product)"
   ]
  },
  {
   "cell_type": "markdown",
   "metadata": {},
   "source": [
    "# 6. Decorators (Dekoratörler)\n",
    "### Dekoratörler, fonksiyonları değiştirmek veya genişletmek için kullanılan işlevlerdir."
   ]
  },
  {
   "cell_type": "code",
   "execution_count": 10,
   "metadata": {},
   "outputs": [
    {
     "name": "stdout",
     "output_type": "stream",
     "text": [
      "before\n",
      "Hello ! \n",
      "after\n"
     ]
    }
   ],
   "source": [
    "def my_decorator(func):\n",
    "    def wrapper():\n",
    "        print(\"before\")\n",
    "        func()\n",
    "        print(\"after\")\n",
    "    return wrapper\n",
    "\n",
    "@my_decorator\n",
    "def say_hello():\n",
    "    print(\"Hello ! \")\n",
    "\n",
    "say_hello()"
   ]
  },
  {
   "cell_type": "markdown",
   "metadata": {},
   "source": [
    "# 7. Context Managers (Bağlam Yöneticileri)\n",
    "### with ifadesi ile kaynakları otomatik olarak yönetebilirsiniz."
   ]
  },
  {
   "cell_type": "code",
   "execution_count": 12,
   "metadata": {},
   "outputs": [],
   "source": [
    "with open('file.txt', 'r') as file:\n",
    "    content = file.read()"
   ]
  },
  {
   "cell_type": "markdown",
   "metadata": {},
   "source": [
    "customize context manager"
   ]
  },
  {
   "cell_type": "code",
   "execution_count": 11,
   "metadata": {},
   "outputs": [
    {
     "name": "stdout",
     "output_type": "stream",
     "text": [
      "Entering the context\n",
      "Inside the context\n",
      "Exiting the context\n"
     ]
    }
   ],
   "source": [
    "class MyContextManager:\n",
    "    def __enter__(self):\n",
    "        print(\"Entering the context\")\n",
    "        return self\n",
    "\n",
    "    def __exit__(self, exc_type, exc_value, traceback):\n",
    "        print(\"Exiting the context\")\n",
    "\n",
    "with MyContextManager():\n",
    "    print(\"Inside the context\")"
   ]
  },
  {
   "cell_type": "markdown",
   "metadata": {},
   "source": [
    "# 8. Type Hints (Tür İpuçları)\n",
    "### kodunuzu daha okunabilir ve hataları daha erken yakalamak için tür ipuçları kullanabilirsiniz.\n",
    "\n"
   ]
  },
  {
   "cell_type": "code",
   "execution_count": 13,
   "metadata": {},
   "outputs": [
    {
     "data": {
      "text/plain": [
       "8"
      ]
     },
     "execution_count": 13,
     "metadata": {},
     "output_type": "execute_result"
    }
   ],
   "source": [
    "def add(a:int,b:int)->int: # int a ,int b alır -> int değer döndürür\n",
    "    return a+b \n",
    "\n",
    "add(5,3)"
   ]
  },
  {
   "cell_type": "markdown",
   "metadata": {},
   "source": [
    "# 9. F-Strings (Formatlı Stringler)\n",
    "### stringleri daha okunabilir ve güçlü bir şekilde biçimlendirmek için f-strings kullanabilirsiniz."
   ]
  },
  {
   "cell_type": "code",
   "execution_count": 14,
   "metadata": {},
   "outputs": [
    {
     "data": {
      "text/plain": [
       "'Hello, World!'"
      ]
     },
     "execution_count": 14,
     "metadata": {},
     "output_type": "execute_result"
    }
   ],
   "source": [
    "name = \"World\"\n",
    "greeting = f\"Hello, {name}!\"\n",
    "greeting "
   ]
  },
  {
   "cell_type": "markdown",
   "metadata": {},
   "source": [
    "# Unpacking (Paket Açma)\n",
    "### Python'da tuple ve listeleri açmak için * ve ** operatörlerini kullanabilirsiniz.\n",
    "\n"
   ]
  },
  {
   "cell_type": "code",
   "execution_count": 15,
   "metadata": {},
   "outputs": [
    {
     "data": {
      "text/plain": [
       "(1, 2, [3, 4, 5])"
      ]
     },
     "execution_count": 15,
     "metadata": {},
     "output_type": "execute_result"
    }
   ],
   "source": [
    "# list unpacking \n",
    "# *args\n",
    "a,b,*rest = [1,2,3,4,5]\n",
    "a,b,rest"
   ]
  },
  {
   "cell_type": "code",
   "execution_count": 16,
   "metadata": {},
   "outputs": [
    {
     "name": "stdout",
     "output_type": "stream",
     "text": [
      "1 2 3\n"
     ]
    }
   ],
   "source": [
    "# dict unpacking\n",
    "# **kwargs\n",
    "def func(a,b,c):\n",
    "    print(a,b,c)\n",
    "\n",
    "dict = {\"a\":1,\"b\":2,\"c\":3}\n",
    "func(**dict)"
   ]
  },
  {
   "cell_type": "markdown",
   "metadata": {},
   "source": [
    "# 11. Ternary (Üçlü) Ifadesi\n",
    "### Tek satırlık if-else ifadeleri için kullanışlıdır."
   ]
  },
  {
   "cell_type": "code",
   "execution_count": 17,
   "metadata": {},
   "outputs": [
    {
     "data": {
      "text/plain": [
       "1"
      ]
     },
     "execution_count": 17,
     "metadata": {},
     "output_type": "execute_result"
    }
   ],
   "source": [
    "condition = True\n",
    "# Geleneksel yöntem\n",
    "if condition:\n",
    "    x = 1\n",
    "else:\n",
    "    x = 2\n",
    "\n",
    "# Ternary ifadesi\n",
    "x = 1 if condition else 2\n",
    "\n",
    "x"
   ]
  },
  {
   "cell_type": "markdown",
   "metadata": {},
   "source": [
    "# 12. Enumerate\n",
    "### enumerate fonksiyonu, bir liste üzerinde döngü yaparken indeks numaralarını da almanızı sağlar."
   ]
  },
  {
   "cell_type": "code",
   "execution_count": 18,
   "metadata": {},
   "outputs": [
    {
     "name": "stdout",
     "output_type": "stream",
     "text": [
      "0 a\n",
      "1 b\n",
      "2 c\n"
     ]
    }
   ],
   "source": [
    "list = [\"a\",\"b\",\"c\"]\n",
    "for index,value in enumerate(list):\n",
    "    print(index,value)"
   ]
  },
  {
   "cell_type": "markdown",
   "metadata": {},
   "source": [
    "# 13. Zip\n",
    "### zip fonksiyonu, birden fazla iterable'ı aynı anda döngüye sokmak için kullanılır."
   ]
  },
  {
   "cell_type": "code",
   "execution_count": 19,
   "metadata": {},
   "outputs": [
    {
     "name": "stdout",
     "output_type": "stream",
     "text": [
      "1 a\n",
      "2 b\n",
      "3 c\n"
     ]
    }
   ],
   "source": [
    "list1 = [1, 2, 3]\n",
    "list2 = ['a', 'b', 'c']\n",
    "for item1, item2 in zip(list1, list2):\n",
    "    print(item1, item2)"
   ]
  },
  {
   "cell_type": "markdown",
   "metadata": {},
   "source": [
    "# 14. Collections Modülü\n",
    "### collections modülü, Python'un standart veri tiplerinin daha gelişmiş versiyonlarını sağlar."
   ]
  },
  {
   "cell_type": "code",
   "execution_count": 20,
   "metadata": {},
   "outputs": [
    {
     "name": "stdout",
     "output_type": "stream",
     "text": [
      "defaultdict(<class 'int'>, {'a': 1})\n",
      "Counter({'l': 3, 'o': 2, 'h': 1, 'e': 1, ' ': 1, 'w': 1, 'r': 1, 'd': 1})\n",
      "deque([0, 1, 2, 3, 4])\n"
     ]
    }
   ],
   "source": [
    "from collections import defaultdict, Counter, deque\n",
    "\n",
    "# defaultdict\n",
    "d = defaultdict(int)\n",
    "d['a'] += 1\n",
    "print(d)  \n",
    "\n",
    "# Counter\n",
    "c = Counter('hello world')\n",
    "print(c)  \n",
    "\n",
    "# deque\n",
    "d = deque([1, 2, 3])\n",
    "d.appendleft(0)\n",
    "d.append(4)\n",
    "print(d) \n"
   ]
  },
  {
   "cell_type": "markdown",
   "metadata": {},
   "source": [
    "# 15. itertools Modülü\n",
    "### itertools modülü, iteratörler için çeşitli yardımcı araçlar sağlar."
   ]
  },
  {
   "cell_type": "code",
   "execution_count": 25,
   "metadata": {},
   "outputs": [
    {
     "name": "stdout",
     "output_type": "stream",
     "text": [
      "1\n",
      "2\n",
      "3\n",
      "a\n",
      "b\n",
      "c\n",
      "\n",
      "\n",
      "1\n",
      "2\n",
      "3\n",
      "1\n",
      "2\n",
      "3\n",
      "1\n",
      "2\n",
      "3\n",
      "1\n",
      "\n",
      "\n",
      "('A', 'B')\n",
      "('A', 'C')\n",
      "('B', 'C')\n"
     ]
    }
   ],
   "source": [
    "import itertools\n",
    "\n",
    "# chain\n",
    "for item in itertools.chain([1, 2, 3], ['a', 'b', 'c']):\n",
    "    print(item)\n",
    "\n",
    "print(\"\\n\")\n",
    "# cycle\n",
    "counter = 0\n",
    "for item in itertools.cycle([1, 2, 3]):\n",
    "    if counter == 10:\n",
    "        break\n",
    "    print(item)\n",
    "    counter += 1\n",
    "print(\"\\n\")\n",
    "\n",
    "# combinations\n",
    "for combination in itertools.combinations('ABC', 2):\n",
    "    print(combination)\n"
   ]
  },
  {
   "cell_type": "markdown",
   "metadata": {},
   "source": [
    "# 16. Datetime Modülü\n",
    "# Tarih ve saatlerle çalışmak için kullanılır."
   ]
  },
  {
   "cell_type": "code",
   "execution_count": 26,
   "metadata": {},
   "outputs": [
    {
     "name": "stdout",
     "output_type": "stream",
     "text": [
      "2024-07-21 00:44:17.865314\n",
      "2024-07-28 00:44:17.865314\n"
     ]
    }
   ],
   "source": [
    "from datetime import datetime, timedelta\n",
    "\n",
    "# Şu anki zaman\n",
    "now = datetime.now()\n",
    "print(now)\n",
    "\n",
    "# Zaman farkı hesaplama\n",
    "delta = timedelta(days=7)\n",
    "one_week_later = now + delta\n",
    "print(one_week_later)\n"
   ]
  },
  {
   "cell_type": "markdown",
   "metadata": {},
   "source": [
    "# 17. JSON Modülü\n",
    "### JSON verilerini okumak ve yazmak için kullanılır."
   ]
  },
  {
   "cell_type": "code",
   "execution_count": 27,
   "metadata": {},
   "outputs": [
    {
     "name": "stdout",
     "output_type": "stream",
     "text": [
      "{\"name\": \"John\", \"age\": 30}\n",
      "{'name': 'John', 'age': 30}\n"
     ]
    }
   ],
   "source": [
    "import json\n",
    "\n",
    "# Python nesnesini JSON'a dönüştürme\n",
    "data = {'name': 'John', 'age': 30}\n",
    "json_data = json.dumps(data)\n",
    "print(json_data)\n",
    "\n",
    "# JSON'u Python nesnesine dönüştürme\n",
    "data_back = json.loads(json_data)\n",
    "print(data_back)\n"
   ]
  },
  {
   "cell_type": "markdown",
   "metadata": {},
   "source": [
    "# 18. Logging Modülü\n",
    "### Kapsamlı loglama (günlük kaydı) imkanı sağlar."
   ]
  },
  {
   "cell_type": "code",
   "execution_count": 28,
   "metadata": {},
   "outputs": [
    {
     "name": "stderr",
     "output_type": "stream",
     "text": [
      "INFO:root:This is an info message\n"
     ]
    }
   ],
   "source": [
    "import logging\n",
    "\n",
    "logging.basicConfig(level=logging.INFO)\n",
    "logging.info('This is an info message')\n"
   ]
  },
  {
   "cell_type": "markdown",
   "metadata": {},
   "source": [
    "# 19. Args ve Kwargs\n",
    "### Fonksiyonlarda esnek sayıda argüman kabul etmenizi sağlar."
   ]
  },
  {
   "cell_type": "code",
   "execution_count": 29,
   "metadata": {},
   "outputs": [
    {
     "name": "stdout",
     "output_type": "stream",
     "text": [
      "args: (1, 2, 3)\n",
      "kwargs: {'name': 'John', 'age': 30}\n"
     ]
    }
   ],
   "source": [
    "def my_function(*args, **kwargs):\n",
    "    print('args:', args)\n",
    "    print('kwargs:', kwargs)\n",
    "\n",
    "my_function(1, 2, 3, name='John', age=30)\n"
   ]
  },
  {
   "cell_type": "markdown",
   "metadata": {},
   "source": [
    "# 20. Pathlib Modülü\n",
    "### Dosya ve dizin işlemleri için modern bir arayüz sağlar."
   ]
  },
  {
   "cell_type": "code",
   "execution_count": 30,
   "metadata": {},
   "outputs": [
    {
     "name": "stdout",
     "output_type": "stream",
     "text": [
      "Hello, World!\n"
     ]
    }
   ],
   "source": [
    "from pathlib import Path\n",
    "\n",
    "# Dosya oluşturma\n",
    "path = Path('example.txt')\n",
    "path.write_text('Hello, World!')\n",
    "\n",
    "# Dosya okuma\n",
    "content = path.read_text()\n",
    "print(content)\n"
   ]
  },
  {
   "cell_type": "markdown",
   "metadata": {},
   "source": [
    "# 21. Dataclasses\n",
    "### veri taşıyan sınıfları daha kolay oluşturmanızı sağlar."
   ]
  },
  {
   "cell_type": "code",
   "execution_count": 31,
   "metadata": {},
   "outputs": [
    {
     "name": "stdout",
     "output_type": "stream",
     "text": [
      "Person(name='John', age=30)\n"
     ]
    }
   ],
   "source": [
    "from dataclasses import dataclass\n",
    "\n",
    "@dataclass\n",
    "class Person:\n",
    "    name: str\n",
    "    age: int\n",
    "\n",
    "p = Person(name='John', age=30)\n",
    "print(p)\n"
   ]
  },
  {
   "cell_type": "markdown",
   "metadata": {},
   "source": [
    "# 22. Property Dekoratörü\n",
    "### Sınıf özelliklerini (property) tanımlamak için kullanılır."
   ]
  },
  {
   "cell_type": "code",
   "execution_count": 33,
   "metadata": {},
   "outputs": [
    {
     "name": "stdout",
     "output_type": "stream",
     "text": [
      "10\n",
      "20\n"
     ]
    }
   ],
   "source": [
    "class My_Class:\n",
    "    def __init__(self,value):\n",
    "        self._value=value\n",
    "\n",
    "    @property\n",
    "    def value(self):\n",
    "        return self._value\n",
    "    \n",
    "    @value.setter\n",
    "    def value(self,new_value):\n",
    "        if new_value >=0:\n",
    "            self._value = new_value\n",
    "        else:\n",
    "            raise ValueError(\"Value must be non negative\")\n",
    "\n",
    "obj = My_Class(10)\n",
    "print(obj.value)\n",
    "obj.value = 20\n",
    "print(obj.value)"
   ]
  },
  {
   "cell_type": "markdown",
   "metadata": {},
   "source": [
    "# 23. Assert \n",
    "### assert, Python'da bir koşulun doğru olduğunu doğrulamak için kullanılan bir anahtar kelimedir. "
   ]
  },
  {
   "cell_type": "code",
   "execution_count": 35,
   "metadata": {},
   "outputs": [
    {
     "name": "stdout",
     "output_type": "stream",
     "text": [
      "5.0\n"
     ]
    }
   ],
   "source": [
    "def divide(a, b):\n",
    "    assert b != 0, \"Bölücü sıfır olamaz\"\n",
    "    return a / b\n",
    "\n",
    "print(divide(10, 2))  \n",
    "#print(divide(10, 0))  "
   ]
  }
 ],
 "metadata": {
  "kernelspec": {
   "display_name": "Python 3",
   "language": "python",
   "name": "python3"
  },
  "language_info": {
   "codemirror_mode": {
    "name": "ipython",
    "version": 3
   },
   "file_extension": ".py",
   "mimetype": "text/x-python",
   "name": "python",
   "nbconvert_exporter": "python",
   "pygments_lexer": "ipython3",
   "version": "3.11.1"
  }
 },
 "nbformat": 4,
 "nbformat_minor": 2
}
